{
 "cells": [
  {
   "cell_type": "markdown",
   "id": "00a57394-53dd-47cd-a5e7-6e7122bbb0f6",
   "metadata": {},
   "source": [
    "# SQL query from table names"
   ]
  },
  {
   "cell_type": "markdown",
   "id": "86bc2813-763c-49f2-9f5d-e1f87a20556f",
   "metadata": {
    "id": "86bc2813-763c-49f2-9f5d-e1f87a20556f"
   },
   "source": [
    "In This notebook we are going to test if using just the name of the table, and a shord definition of its contect we can use a model like GTP3.5-Turbo to select which tables are necessary to create a SQL Order to answer the user petition."
   ]
  },
  {
   "cell_type": "code",
   "execution_count": 1,
   "id": "7fbbdf5b-4d7f-4496-8f40-9d15ea46d023",
   "metadata": {
    "id": "7fbbdf5b-4d7f-4496-8f40-9d15ea46d023"
   },
   "outputs": [],
   "source": [
    "from openai import OpenAI\n",
    "import os\n",
    "from dotenv import load_dotenv, find_dotenv\n",
    "_ = load_dotenv(find_dotenv())\n",
    "\n",
    "OPENAI_API_KEY  = os.getenv('OPENAI_API_KEY')"
   ]
  },
  {
   "cell_type": "code",
   "execution_count": 2,
   "id": "e480bbfb-9a80-4ea6-b792-067e63ae3148",
   "metadata": {
    "id": "e480bbfb-9a80-4ea6-b792-067e63ae3148"
   },
   "outputs": [],
   "source": [
    "#Functio to call the model.\n",
    "def return_OAI(user_message):\n",
    "    client = OpenAI(\n",
    "    # This is the default and can be omitted\n",
    "    api_key=OPENAI_API_KEY,\n",
    ")\n",
    "    context = []\n",
    "    context.append({'role':'system', \"content\": user_message})\n",
    "\n",
    "    response = client.chat.completions.create(\n",
    "            model=\"gpt-3.5-turbo\",\n",
    "            messages=context,\n",
    "            temperature=0,\n",
    "        )\n",
    "\n",
    "    return (response.choices[0].message.content)"
   ]
  },
  {
   "cell_type": "code",
   "execution_count": null,
   "id": "6d5d2bdc-d822-4ed8-815e-b3f223730f15",
   "metadata": {
    "id": "6d5d2bdc-d822-4ed8-815e-b3f223730f15",
    "outputId": "61068bf0-41e3-40d9-b453-b76da5b0f086"
   },
   "outputs": [
    {
     "name": "stdout",
     "output_type": "stream",
     "text": [
      "    table                 definition\n",
      "0   users  Contains user information\n",
      "1  orders     Contains order details\n"
     ]
    }
   ],
   "source": [
    "#Definition of the tables.\n",
    "import pandas as pd\n",
    "\n",
    "# Table and definitions sample\n",
    "# data = {\n",
    "#     'table': ['users', 'orders', 'products', 'sales'],\n",
    "#     'definition': ['Contains user information', 'Contains order details', \n",
    "#                    'Contains product information', 'Contains sales records'],\n",
    "# }\n",
    "data = {\n",
    "    'table': ['users', 'orders'],\n",
    "    'definition': ['Contains user information', 'Contains order details', \n",
    "                   ],\n",
    "}\n",
    "df = pd.DataFrame(data)\n",
    "print(df)"
   ]
  },
  {
   "cell_type": "code",
   "execution_count": 5,
   "id": "009e681c-d95d-4c9c-b044-5bfd76e3ad95",
   "metadata": {
    "id": "009e681c-d95d-4c9c-b044-5bfd76e3ad95"
   },
   "outputs": [],
   "source": [
    "text_tables = '\\n'.join([f\"{row['table']}: {row['definition']}\" for index, row in df.iterrows()])"
   ]
  },
  {
   "cell_type": "code",
   "execution_count": 14,
   "id": "fe03ac25-8d02-4cd1-99a1-be4220c6fd2d",
   "metadata": {
    "id": "fe03ac25-8d02-4cd1-99a1-be4220c6fd2d",
    "outputId": "c1f3aab1-5f26-48fe-fcf9-3780120f5aad"
   },
   "outputs": [
    {
     "name": "stdout",
     "output_type": "stream",
     "text": [
      "employees: Employee information, name...\n",
      "salary: Salary details for each year\n",
      "studies: Educational studies, name of the institution, type of studies, level\n"
     ]
    }
   ],
   "source": [
    "print(text_tables)"
   ]
  },
  {
   "cell_type": "code",
   "execution_count": 6,
   "id": "c7e275ae-f20d-4134-b9b6-d8677dfb544c",
   "metadata": {
    "id": "c7e275ae-f20d-4134-b9b6-d8677dfb544c"
   },
   "outputs": [],
   "source": [
    "prompt_question_tables = \"\"\"\n",
    "Given the following tables and their content definitions,\n",
    "###Tables\n",
    "{tables}\n",
    "\n",
    "Tell me which tables would be necessary to query with SQL to address the user's question below.\n",
    "Return the table names in a json format.\n",
    "###User Questyion:\n",
    "{question}\n",
    "\"\"\"\n"
   ]
  },
  {
   "cell_type": "code",
   "execution_count": 8,
   "id": "b1cb5957-2df2-4e5e-9e6a-ace955c9817e",
   "metadata": {
    "id": "b1cb5957-2df2-4e5e-9e6a-ace955c9817e"
   },
   "outputs": [],
   "source": [
    "#Creating the prompt, with the user questions and the tables definitions.\n",
    "# Replace the question below with your actual user query\n",
    "pqt1 = prompt_question_tables.format(\n",
    "\ttables=text_tables,\n",
    "\tquestion=\"Which users have placed orders?\"\n",
    ")"
   ]
  },
  {
   "cell_type": "code",
   "execution_count": 9,
   "id": "10d30f2b-6c23-4fd6-8038-840fba784cce",
   "metadata": {
    "id": "10d30f2b-6c23-4fd6-8038-840fba784cce",
    "outputId": "9924022c-7b2b-4ec8-e2c2-75bc1c745151",
    "scrolled": true
   },
   "outputs": [
    {
     "name": "stdout",
     "output_type": "stream",
     "text": [
      "```json\n",
      "{\n",
      "    \"tables\": [\"users\", \"orders\"]\n",
      "}\n",
      "```\n"
     ]
    }
   ],
   "source": [
    "print(return_OAI(pqt1))"
   ]
  },
  {
   "cell_type": "code",
   "execution_count": 11,
   "id": "57e07083-be8f-4cd0-95bd-c4b909422c6b",
   "metadata": {
    "id": "57e07083-be8f-4cd0-95bd-c4b909422c6b"
   },
   "outputs": [],
   "source": [
    "pqt3 = prompt_question_tables.format(\n",
    "    tables=text_tables,\n",
    "    question=\"List all orders placed by users named Alice.\"\n",
    ")"
   ]
  },
  {
   "cell_type": "code",
   "execution_count": 12,
   "id": "a0eeb79e-caf1-4f48-9897-168d95d2ae37",
   "metadata": {
    "id": "a0eeb79e-caf1-4f48-9897-168d95d2ae37",
    "outputId": "81d77115-9cad-4284-a228-5368bb9aa6fb"
   },
   "outputs": [
    {
     "name": "stdout",
     "output_type": "stream",
     "text": [
      "```json\n",
      "{\n",
      "    \"tables\": [\"users\", \"orders\"]\n",
      "}\n",
      "```\n"
     ]
    }
   ],
   "source": [
    "print(return_OAI(pqt3))"
   ]
  },
  {
   "cell_type": "code",
   "execution_count": 13,
   "id": "e2291302",
   "metadata": {},
   "outputs": [],
   "source": [
    "\n",
    "prompt_few_shots_question_tables = \"\"\"\n",
    "Here are some examples of how to pick tables from definitions:\n",
    "\n",
    "Example 1  \n",
    "Tables:  \n",
    "users: Contains user information  \n",
    "orders: Contains order details  \n",
    "JSON answer: [\"users\", \"orders\"]\n",
    "\n",
    "Example 2  \n",
    "Tables:  \n",
    "products: Contains product information  \n",
    "sales: Contains sales records  \n",
    "JSON answer: [\"products\", \"sales\"]\n",
    "\n",
    "Now, given these tables:\n",
    "{tables}\n",
    "\n",
    "Which tables would you need in a SQL query to answer:\n",
    "\"{question}\"\n",
    "Respond with only a JSON array of table names.\n",
    "\"\"\""
   ]
  },
  {
   "cell_type": "code",
   "execution_count": 14,
   "id": "347d6e5c",
   "metadata": {},
   "outputs": [],
   "source": [
    "prompt_cot_question_tables = \"\"\"\n",
    "You are a SQL expert. Think step by step and explain your reasoning before giving the final answer.\n",
    "\n",
    "Tables and definitions:\n",
    "{tables}\n",
    "\n",
    "User’s question:\n",
    "{question}\n",
    "\n",
    "First, list each table’s role. Then decide which are needed. Finally, output a JSON array of the chosen table names.\n",
    "\"\"\""
   ]
  },
  {
   "cell_type": "code",
   "execution_count": 22,
   "id": "f9b8348a",
   "metadata": {},
   "outputs": [],
   "source": [
    "prompt_improved_question_tables = \"\"\"\n",
    "You are an AI assistant who strictly outputs in valid JSON.  \n",
    "Task: Identify the minimal set of tables required for a SQL query.  \n",
    "Input format:\n",
    "  {tables}\n",
    "\n",
    "Question:\n",
    "  \"{question}\"\n",
    "\n",
    "Requirements:\n",
    "  1. Analyze definitions only.\n",
    "  2. Do NOT include any explanations or extra fields.\n",
    "  3. Return exactly:  \n",
    "     {{\"tables\": [<table1>, <table2>, …]}}\n",
    "\n",
    "Begin.\n",
    "\"\"\""
   ]
  },
  {
   "cell_type": "code",
   "execution_count": 16,
   "id": "d17f6a6b",
   "metadata": {},
   "outputs": [
    {
     "name": "stdout",
     "output_type": "stream",
     "text": [
      "```json\n",
      "{\n",
      "    \"tables\": [\"users\", \"orders\"]\n",
      "}\n",
      "```\n"
     ]
    }
   ],
   "source": [
    "pqt3 = prompt_question_tables.format(\n",
    "    tables=text_tables,\n",
    "    question=\"List all orders placed by users named Alice.\"\n",
    ")\n",
    "print(return_OAI(pqt3))"
   ]
  },
  {
   "cell_type": "code",
   "execution_count": 17,
   "id": "9c8935d3",
   "metadata": {},
   "outputs": [
    {
     "name": "stdout",
     "output_type": "stream",
     "text": [
      "[\"users\", \"orders\"]\n"
     ]
    }
   ],
   "source": [
    "pqt3 = prompt_few_shots_question_tables.format(\n",
    "    tables=text_tables,\n",
    "    question=\"List all orders placed by users named Alice.\"\n",
    ")\n",
    "print(return_OAI(pqt3))"
   ]
  },
  {
   "cell_type": "code",
   "execution_count": 18,
   "id": "63aaddd7",
   "metadata": {},
   "outputs": [
    {
     "name": "stdout",
     "output_type": "stream",
     "text": [
      "First, let's identify the role of each table:\n",
      "- users: Contains user information such as names\n",
      "- orders: Contains order details including the user who placed the order\n",
      "\n",
      "Since we are looking for orders placed by users named Alice, we will need information from both the users and orders tables. We need to join these two tables on the user_id column to retrieve the orders placed by users named Alice.\n",
      "\n",
      "Therefore, the SQL query will involve the users and orders tables.\n",
      "\n",
      "JSON array of the chosen table names:\n",
      "```json\n",
      "[\"users\", \"orders\"]\n",
      "```\n"
     ]
    }
   ],
   "source": [
    "pqt3 = prompt_cot_question_tables.format(\n",
    "    tables=text_tables,\n",
    "    question=\"List all orders placed by users named Alice.\"\n",
    ")\n",
    "print(return_OAI(pqt3))"
   ]
  },
  {
   "cell_type": "code",
   "execution_count": 23,
   "id": "ee293a1f",
   "metadata": {},
   "outputs": [
    {
     "name": "stdout",
     "output_type": "stream",
     "text": [
      "\n",
      "{\n",
      "  \"tables\": [\"users\", \"orders\"]\n",
      "}\n"
     ]
    }
   ],
   "source": [
    "pqt3 = prompt_improved_question_tables.format(\n",
    "    tables=text_tables,\n",
    "    question=\"List all orders placed by users named Alice.\"\n",
    ")\n",
    "print(return_OAI(pqt3))"
   ]
  },
  {
   "cell_type": "code",
   "execution_count": 24,
   "id": "82ca6d49",
   "metadata": {},
   "outputs": [
    {
     "name": "stdout",
     "output_type": "stream",
     "text": [
      "```json\n",
      "{\n",
      "    \"tables\": {\n",
      "        \"users\": \"Contains user information\",\n",
      "        \"orders\": \"Contains order details\"\n",
      "    }\n",
      "}\n",
      "```\n"
     ]
    }
   ],
   "source": [
    "pqt4 = prompt_question_tables.format(\n",
    "    tables=text_tables,\n",
    "    question=\"Show top spenders.\"\n",
    ")\n",
    "print(return_OAI(pqt4))"
   ]
  },
  {
   "cell_type": "code",
   "execution_count": 25,
   "id": "13cb54a2",
   "metadata": {},
   "outputs": [
    {
     "name": "stdout",
     "output_type": "stream",
     "text": [
      "[\"users\", \"orders\"]\n"
     ]
    }
   ],
   "source": [
    "pqt4 = prompt_few_shots_question_tables.format(\n",
    "    tables=text_tables,\n",
    "    question=\"Show top spenders.\"\n",
    ")\n",
    "print(return_OAI(pqt4))"
   ]
  },
  {
   "cell_type": "code",
   "execution_count": 26,
   "id": "2e3b43a8",
   "metadata": {},
   "outputs": [
    {
     "name": "stdout",
     "output_type": "stream",
     "text": [
      "First, let's identify the role of each table:\n",
      "- users: Contains user information such as user id, name, email, etc.\n",
      "- orders: Contains order details such as order id, user id, total amount, order date, etc.\n",
      "\n",
      "To show the top spenders, we need information about users and their total spending from the orders table. We will need to join the users and orders tables to calculate the total spending for each user.\n",
      "\n",
      "Therefore, we need the following tables for this query:\n",
      "- users\n",
      "- orders\n",
      "\n",
      "Output JSON array of the chosen table names:\n",
      "```json\n",
      "[\"users\", \"orders\"]\n",
      "```\n"
     ]
    }
   ],
   "source": [
    "pqt4 = prompt_cot_question_tables.format(\n",
    "    tables=text_tables,\n",
    "    question=\"Show top spenders.\"\n",
    ")\n",
    "print(return_OAI(pqt4))"
   ]
  },
  {
   "cell_type": "code",
   "execution_count": null,
   "id": "4531cc9d",
   "metadata": {},
   "outputs": [
    {
     "name": "stdout",
     "output_type": "stream",
     "text": [
      "{\n",
      "\t\"tables\": [\"users\", \"orders\"]\n",
      "}\n"
     ]
    }
   ],
   "source": [
    "pqt4 = prompt_improved_question_tables.format(\n",
    "    tables=text_tables,\n",
    "    question=\"Show top spenders.\"\n",
    ")\n",
    "print(return_OAI(pqt4))"
   ]
  },
  {
   "cell_type": "code",
   "execution_count": 28,
   "id": "f7bc4a65",
   "metadata": {},
   "outputs": [
    {
     "name": "stdout",
     "output_type": "stream",
     "text": [
      "```json\n",
      "{\n",
      "    \"tables\": [\"users\"]\n",
      "}\n",
      "```\n"
     ]
    }
   ],
   "source": [
    "pqt5 = prompt_question_tables.format(\n",
    "    tables=text_tables,\n",
    "    question=\"Which countries have no users?\"\n",
    ")\n",
    "print(return_OAI(pqt5))"
   ]
  },
  {
   "cell_type": "code",
   "execution_count": 29,
   "id": "c0ea1b53",
   "metadata": {},
   "outputs": [
    {
     "name": "stdout",
     "output_type": "stream",
     "text": [
      "[\"users\"]\n"
     ]
    }
   ],
   "source": [
    "pqt5 = prompt_few_shots_question_tables.format(\n",
    "    tables=text_tables,\n",
    "    question=\"Which countries have no users?\"\n",
    ")\n",
    "print(return_OAI(pqt5))"
   ]
  },
  {
   "cell_type": "code",
   "execution_count": 30,
   "id": "6400d181",
   "metadata": {},
   "outputs": [
    {
     "name": "stdout",
     "output_type": "stream",
     "text": [
      "First, let's understand the role of each table:\n",
      "- users: Contains information about users, including their country.\n",
      "- orders: Contains details about orders, but does not directly provide information about countries.\n",
      "\n",
      "Since we are interested in finding countries with no users, we only need the `users` table for this query.\n",
      "\n",
      "Therefore, the chosen table for this question is:\n",
      "```json\n",
      "[\"users\"]\n",
      "```\n"
     ]
    }
   ],
   "source": [
    "pqt5 = prompt_cot_question_tables.format(\n",
    "\n",
    "    tables=text_tables,\n",
    "    question=\"Which countries have no users?\"\n",
    ")\n",
    "print(return_OAI(pqt5))"
   ]
  },
  {
   "cell_type": "code",
   "execution_count": 31,
   "id": "2e80529b",
   "metadata": {},
   "outputs": [
    {
     "name": "stdout",
     "output_type": "stream",
     "text": [
      "{\n",
      "    \"tables\": [\"users\"]\n",
      "}\n"
     ]
    }
   ],
   "source": [
    "pqt5 = prompt_improved_question_tables.format(\n",
    "    tables=text_tables,\n",
    "    question=\"Which countries have no users?\"\n",
    ")\n",
    "print(return_OAI(pqt5))"
   ]
  },
  {
   "cell_type": "markdown",
   "id": "321bb9a2-4937-4e9a-a31b-7049cb8f5aa3",
   "metadata": {
    "id": "321bb9a2-4937-4e9a-a31b-7049cb8f5aa3"
   },
   "source": [
    "# Exercise\n",
    " - Complete the prompts similar to what we did in class. \n",
    "     - Try a few versions if you have time\n",
    "     - Be creative\n",
    " - Write a one page report summarizing your findings.\n",
    "     - Were there variations that didn't work well? i.e., where GPT either hallucinated or wrong\n",
    " - What did you learn?"
   ]
  },
  {
   "cell_type": "markdown",
   "id": "e8d830e3",
   "metadata": {},
   "source": [
    "LLM is dependent on on prompt used to map user questions to the correct SQL tables. Zero-Shot can serve as a quick baseline, Few-Shot mirrors the examples. Chain-of-Thought explains the process prior giving the answer, but it looks too long for production. Optimized/combined style prompts deliver more reliable answers."
   ]
  }
 ],
 "metadata": {
  "colab": {
   "include_colab_link": true,
   "provenance": []
  },
  "kernelspec": {
   "display_name": "sub_ironhack",
   "language": "python",
   "name": "python3"
  },
  "language_info": {
   "codemirror_mode": {
    "name": "ipython",
    "version": 3
   },
   "file_extension": ".py",
   "mimetype": "text/x-python",
   "name": "python",
   "nbconvert_exporter": "python",
   "pygments_lexer": "ipython3",
   "version": "3.11.13"
  }
 },
 "nbformat": 4,
 "nbformat_minor": 5
}
